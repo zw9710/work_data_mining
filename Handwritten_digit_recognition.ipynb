{
 "cells": [
  {
   "cell_type": "code",
   "execution_count": 5,
   "metadata": {},
   "outputs": [],
   "source": [
    "from sklearn.datasets import load_digits\n",
    "from sklearn.naive_bayes import GaussianNB,MultinomialNB,BernoulliNB    #导入朴素贝叶斯的三个分类函数\n",
    "from sklearn.model_selection import train_test_split    \n",
    "from sklearn.metrics import accuracy_score\n",
    "import matplotlib.pyplot as plt\n",
    "import prettytable as pt    #导入绘制表格的包"
   ]
  },
  {
   "cell_type": "code",
   "execution_count": 6,
   "metadata": {},
   "outputs": [],
   "source": [
    "#导入手写数字数据集\n",
    "data = load_digits()\n",
    "x = data.data\n",
    "y = data.target"
   ]
  },
  {
   "cell_type": "code",
   "execution_count": 7,
   "metadata": {},
   "outputs": [
    {
     "name": "stdout",
     "output_type": "stream",
     "text": [
      "(1797, 64) (1797,)\n"
     ]
    }
   ],
   "source": [
    "#查询手写数字数据集的部分信息\n",
    "print(x.shape,y.shape)"
   ]
  },
  {
   "cell_type": "code",
   "execution_count": 8,
   "metadata": {},
   "outputs": [
    {
     "data": {
      "image/png": "[encoded data removed]",
      "text/plain": [
       "<Figure size 432x288 with 1 Axes>"
      ]
     },
     "metadata": {
      "needs_background": "light"
     },
     "output_type": "display_data"
    }
   ],
   "source": [
    "#查询手写数字数据集的第一张图\n",
    "plt.imshow(data.images[0])\n",
    "plt.show()"
   ]
  },
  {
   "cell_type": "code",
   "execution_count": 9,
   "metadata": {},
   "outputs": [],
   "source": [
    "#将数据集划分为基于x和y的训练集、测试集（测试数字占20%的比例）\n",
    "x_train,x_test,y_train,y_test = train_test_split(x,y,test_size=0.2)"
   ]
  },
  {
   "cell_type": "code",
   "execution_count": 15,
   "metadata": {},
   "outputs": [
    {
     "name": "stdout",
     "output_type": "stream",
     "text": [
      "BermouliNB模型训练集的准确度为:0.8685,测试集准确率为:0.8667\n"
     ]
    }
   ],
   "source": [
    "#伯努利朴素贝叶斯model\n",
    "model_BernoulliNB = BernoulliNB()\n",
    "model_BernoulliNB = model_BernoulliNB.fit(x_train,y_train)\n",
    "pred_train1 = model_BernoulliNB.predict(x_train)\n",
    "pred_test1 = model_BernoulliNB.predict(x_test)\n",
    "accuracy_score_train1 = accuracy_score(y_train,pred_train1)\n",
    "accuracy_score_test1 = accuracy_score(y_test,pred_test1)\n",
    "print(f\"BermouliNB模型训练集的准确度为:{accuracy_score_train1:.4f},测试集准确率为:{accuracy_score_test1:.4f}\")"
   ]
  },
  {
   "cell_type": "code",
   "execution_count": 16,
   "metadata": {},
   "outputs": [
    {
     "name": "stdout",
     "output_type": "stream",
     "text": [
      "GaussianNB模型训练集的准确度为:0.8532,测试集准确率为:0.8556\n"
     ]
    }
   ],
   "source": [
    "#高斯朴素贝叶斯model\n",
    "model_GaussianNB = GaussianNB()\n",
    "model_GaussianNB = model_GaussianNB.fit(x_train,y_train)\n",
    "pred_train2 =model_GaussianNB.predict(x_train)\n",
    "pred_test2 = model_GaussianNB.predict(x_test)\n",
    "accuracy_score_train2 = accuracy_score(y_train,pred_train2)\n",
    "accuracy_score_test2 = accuracy_score(y_test,pred_test2)\n",
    "print(f\"GaussianNB模型训练集的准确度为:{accuracy_score_train2:.4f},测试集准确率为:{accuracy_score_test2:.4f}\")                                      "
   ]
  },
  {
   "cell_type": "code",
   "execution_count": 17,
   "metadata": {},
   "outputs": [
    {
     "name": "stdout",
     "output_type": "stream",
     "text": [
      "MultinomialNB模型训练集的准确度为:0.9054,测试集准确率为:0.9278\n"
     ]
    }
   ],
   "source": [
    "#多项式朴素贝叶斯model\n",
    "model_MultinomialNB = MultinomialNB(fit_prior=True)\n",
    "model_MultinomialNB = model_MultinomialNB.fit(x_train,y_train)\n",
    "pred_train3 =model_MultinomialNB.predict(x_train)\n",
    "pred_test3 = model_MultinomialNB.predict(x_test)\n",
    "accuracy_score_train3 = accuracy_score(y_train,pred_train3)\n",
    "accuracy_score_test3 = accuracy_score(y_test,pred_test3)\n",
    "print(f\"MultinomialNB模型训练集的准确度为:{accuracy_score_train3:.4f},测试集准确率为:{accuracy_score_test3:.4f}\")   "
   ]
  },
  {
   "cell_type": "code",
   "execution_count": 19,
   "metadata": {},
   "outputs": [
    {
     "name": "stdout",
     "output_type": "stream",
     "text": [
      "+--------------+--------------------+--------------------+--------------------+\n",
      "|    modle     |    BernoulliNB     |     GaussianNB     |   MultinomialNB    |\n",
      "+--------------+--------------------+--------------------+--------------------+\n",
      "| 训练集准确度 | 0.8684759916492694 | 0.8531663187195546 | 0.9053583855254002 |\n",
      "| 测试集准确度 | 0.8666666666666667 | 0.8555555555555555 | 0.9277777777777778 |\n",
      "+--------------+--------------------+--------------------+--------------------+\n"
     ]
    }
   ],
   "source": [
    "#汇总三种方法结果\n",
    "tb = pt.PrettyTable()\n",
    "tb.field_names = [\"modle\", \"BernoulliNB\", \"GaussianNB\", \"MultinomialNB\"]\n",
    "tb.add_row([\"训练集准确度\",accuracy_score_train1,accuracy_score_train2,accuracy_score_train3])\n",
    "tb.add_row([\"测试集准确度\",accuracy_score_test1,accuracy_score_test2,accuracy_score_test3])\n",
    "print(tb)"
   ]
  },
  {
   "cell_type": "code",
   "execution_count": null,
   "metadata": {},
   "outputs": [],
   "source": []
  }
 ],
 "metadata": {
  "kernelspec": {
   "display_name": "Python 3",
   "language": "python",
   "name": "python3"
  },
  "language_info": {
   "codemirror_mode": {
    "name": "ipython",
    "version": 3
   },
   "file_extension": ".py",
   "mimetype": "text/x-python",
   "name": "python",
   "nbconvert_exporter": "python",
   "pygments_lexer": "ipython3",
   "version": "3.7.6"
  }
 },
 "nbformat": 4,
 "nbformat_minor": 2
}
